{
 "cells": [
  {
   "cell_type": "markdown",
   "id": "ec679877",
   "metadata": {},
   "source": [
    "# Generating a random cluster dataset "
   ]
  },
  {
   "cell_type": "code",
   "execution_count": 28,
   "id": "db881b1e",
   "metadata": {},
   "outputs": [
    {
     "data": {
      "text/plain": [
       "<matplotlib.collections.PathCollection at 0x25b125b7040>"
      ]
     },
     "execution_count": 28,
     "metadata": {},
     "output_type": "execute_result"
    },
    {
     "data": {
      "image/png": "[encoded data removed]",
      "text/plain": [
       "<Figure size 432x288 with 1 Axes>"
      ]
     },
     "metadata": {
      "needs_background": "light"
     },
     "output_type": "display_data"
    }
   ],
   "source": [
    "from sklearn.datasets import make_blobs\n",
    "import matplotlib.pyplot as plt\n",
    "\n",
    "centers = [(-2, 2), (2, 2), (0, 5)]\n",
    "cluster_std = [1.9, 0.7, 0.7]\n",
    "\n",
    "X, y = make_blobs(n_samples=500, cluster_std = cluster_std, centers = centers, n_features=3, random_state=1)\n",
    "\n",
    "plt.scatter(X[y == 0, 0], X[y == 0, 1], color=\"red\", s=10, label=\"Cluster1\")\n",
    "plt.scatter(X[y == 1, 0], X[y == 1, 1], color=\"blue\", s=10, label=\"Cluster2\")\n",
    "plt.scatter(X[y == 2, 0], X[y == 2, 1], color=\"green\", s=10, label=\"Cluster3\")"
   ]
  },
  {
   "cell_type": "code",
   "execution_count": 2,
   "id": "83c92495",
   "metadata": {
    "scrolled": true
   },
   "outputs": [
    {
     "data": {
      "text/plain": [
       "array([[-0.73187397,  5.24869915],\n",
       "       [ 2.58860309,  1.92797895],\n",
       "       [ 1.66723899,  2.33432713],\n",
       "       [-1.30956537,  2.14947373],\n",
       "       [ 1.43380696,  2.39020762],\n",
       "       [-1.187763  ,  2.2586449 ],\n",
       "       [ 2.54965884,  1.53459256],\n",
       "       [ 1.46288312,  2.47219949],\n",
       "       [ 1.80278461,  3.43944887],\n",
       "       [-0.67288452,  3.97917288],\n",
       "       [-1.32668686,  5.06281038],\n",
       "       [-0.82677222,  4.67804893],\n",
       "       [ 0.74829018,  4.85317295],\n",
       "       [-2.22569204,  1.73116195],\n",
       "       [ 1.71185259,  2.89496966],\n",
       "       [ 2.56619105,  3.25282828],\n",
       "       [-3.9551595 ,  3.35627017],\n",
       "       [ 1.3438546 ,  4.02581429],\n",
       "       [-1.77667263,  1.82544074],\n",
       "       [ 2.31589881,  0.82115801],\n",
       "       [ 2.46317675,  2.69044653],\n",
       "       [ 0.70557653,  5.27463444],\n",
       "       [-1.7078886 ,  2.54933946],\n",
       "       [-0.83813848,  2.51943091],\n",
       "       [ 0.14636767,  6.0885112 ],\n",
       "       [ 0.09807692,  4.00659586],\n",
       "       [-2.1556297 ,  1.85946935],\n",
       "       [-1.71755585,  2.41550497],\n",
       "       [ 1.73763672,  1.47502127],\n",
       "       [-2.49408836,  2.83488025],\n",
       "       [ 2.40925263,  2.22699197],\n",
       "       [-1.70355395,  2.05413805],\n",
       "       [ 0.57004019,  5.54632895],\n",
       "       [ 2.55864466,  1.92864757],\n",
       "       [ 2.68946617,  2.7498767 ],\n",
       "       [ 0.90398329,  2.70967573],\n",
       "       [ 2.02446051,  3.01774231],\n",
       "       [ 0.20165472,  6.04867573],\n",
       "       [ 0.8945906 ,  1.41996041],\n",
       "       [-2.58112033,  1.38359568],\n",
       "       [-0.20046944,  4.39037865],\n",
       "       [ 2.84591943,  2.78099126],\n",
       "       [-1.40768755,  1.39833884],\n",
       "       [-1.5941086 ,  4.95126282],\n",
       "       [ 1.70960717,  2.31636223],\n",
       "       [ 2.24578183,  1.95186068],\n",
       "       [ 3.01600048,  1.56737421],\n",
       "       [-0.13338381,  5.16333739],\n",
       "       [-1.62937427,  2.09639085],\n",
       "       [-1.83725381,  2.47778598],\n",
       "       [-0.23017201,  1.82595566],\n",
       "       [-0.53746262,  4.74482337],\n",
       "       [ 2.44560839,  2.98647737],\n",
       "       [-1.56473755,  1.58013683],\n",
       "       [-0.73434742,  5.22166123],\n",
       "       [ 2.76929743,  1.36885586],\n",
       "       [ 1.76810178,  2.2705774 ],\n",
       "       [ 0.67083156,  1.21802252],\n",
       "       [ 2.01201531,  1.69960041],\n",
       "       [-0.3437876 ,  5.09406118],\n",
       "       [-0.90883612,  2.07658189],\n",
       "       [-1.64094913,  1.79133502],\n",
       "       [-2.19536841,  3.13599436],\n",
       "       [ 1.60534789,  2.06278049],\n",
       "       [-2.14622596,  2.41063623],\n",
       "       [ 1.83449413,  2.50946945],\n",
       "       [ 0.77156571,  4.13929802],\n",
       "       [ 0.92284473,  1.68647337],\n",
       "       [ 2.83848159,  3.19321592],\n",
       "       [ 1.86070127,  3.30652996],\n",
       "       [ 1.89010443,  1.06535809],\n",
       "       [-1.65536441,  1.5235253 ],\n",
       "       [ 0.41944926,  3.97083404],\n",
       "       [ 1.6736916 ,  2.96949394],\n",
       "       [ 0.68880857,  4.608223  ],\n",
       "       [ 1.45549882,  2.78108878],\n",
       "       [ 1.64371941,  1.88345983],\n",
       "       [-0.58100769,  4.28633611],\n",
       "       [-0.32180238,  6.19383846],\n",
       "       [-1.99065313,  1.51371448],\n",
       "       [ 1.44031676,  1.79588378],\n",
       "       [-1.36940084,  1.5213905 ],\n",
       "       [ 1.68588338,  1.52928637],\n",
       "       [-1.53866514,  0.86079316],\n",
       "       [-2.12664421,  1.57725556],\n",
       "       [ 0.3115677 ,  5.06867857],\n",
       "       [-2.05915562,  1.79184668],\n",
       "       [-2.31299   ,  2.85715539],\n",
       "       [ 3.02262467,  2.41473096],\n",
       "       [ 1.83986392,  3.12935296],\n",
       "       [-3.01087966,  1.6468739 ],\n",
       "       [ 2.52034958,  0.94329912],\n",
       "       [-0.41726043,  5.60313617],\n",
       "       [ 1.70400013,  2.06052508],\n",
       "       [-1.56364648,  1.69553032],\n",
       "       [ 2.27517647,  0.7232561 ],\n",
       "       [ 1.84431018,  3.02911224],\n",
       "       [ 0.74222926,  3.80218264],\n",
       "       [ 3.18566638,  2.13780885],\n",
       "       [-0.46651019,  0.67254735],\n",
       "       [-2.78338078,  3.36925523],\n",
       "       [-0.66390776,  4.70356519],\n",
       "       [-2.0843252 ,  1.13681549],\n",
       "       [-1.46883604,  2.61943617],\n",
       "       [-2.34874949,  1.78231052],\n",
       "       [-0.7475136 ,  4.94632445],\n",
       "       [ 1.05656454,  3.0295179 ],\n",
       "       [-2.21708174,  0.29561357],\n",
       "       [-2.26269947,  1.55288871],\n",
       "       [ 0.57395914,  0.64018757],\n",
       "       [ 1.42427297,  2.5051979 ],\n",
       "       [ 1.73061743,  3.02067577],\n",
       "       [-1.86940703,  2.28703615],\n",
       "       [ 0.64785085,  4.6801085 ],\n",
       "       [-2.48416253,  1.72227253],\n",
       "       [-3.00861322,  2.86257715],\n",
       "       [-1.91472511,  2.79063874],\n",
       "       [ 1.26251229,  4.68323252],\n",
       "       [-1.60606723,  2.16851596],\n",
       "       [-0.61613235,  4.98669963],\n",
       "       [ 1.6904395 ,  2.22646915],\n",
       "       [ 0.80681939,  4.84303496],\n",
       "       [-1.9884307 ,  2.1240314 ],\n",
       "       [-0.01221847,  5.51198176],\n",
       "       [-0.08550781,  4.5234039 ],\n",
       "       [-1.44348173,  1.73789318],\n",
       "       [-1.10837085,  3.37697122],\n",
       "       [ 0.03522196,  5.45522625],\n",
       "       [ 1.39099424,  2.25843333],\n",
       "       [ 1.24350252,  2.5078318 ],\n",
       "       [-1.75461781,  1.08140161],\n",
       "       [-2.1306053 ,  1.96022286],\n",
       "       [ 1.87161986,  2.77070014],\n",
       "       [-1.02785442,  1.53705903],\n",
       "       [-0.62485267,  4.88716118],\n",
       "       [ 0.6763546 ,  5.5081418 ],\n",
       "       [-2.28061473,  2.57680393],\n",
       "       [ 0.13983169,  5.65290499],\n",
       "       [-2.01723187,  1.45738687],\n",
       "       [-2.49027895,  1.85762389],\n",
       "       [-0.35278176,  5.01256912],\n",
       "       [-1.08985909,  4.57129051],\n",
       "       [-1.86635916,  3.4701786 ],\n",
       "       [-0.97652444,  0.5579015 ],\n",
       "       [-1.52395111,  1.77613888],\n",
       "       [-0.22824291,  4.97836201],\n",
       "       [ 1.91881037,  1.87717872],\n",
       "       [-0.83710306,  6.7541862 ],\n",
       "       [ 2.37021582,  0.43403944],\n",
       "       [-0.21068331,  5.56521914],\n",
       "       [-1.80067632,  2.18372721],\n",
       "       [-2.52301081,  3.18471822],\n",
       "       [ 1.68071771,  1.31407682],\n",
       "       [-3.15550489,  1.37661109],\n",
       "       [ 1.00141121,  3.23757196],\n",
       "       [ 0.4744653 ,  4.22539885],\n",
       "       [ 1.80690776,  2.86026891],\n",
       "       [ 1.88226081,  1.87807376],\n",
       "       [-0.55395168,  0.97019015],\n",
       "       [ 1.70674347,  1.66457056],\n",
       "       [-2.17792591,  2.97989076],\n",
       "       [-1.90616626,  2.8414384 ],\n",
       "       [-2.78211724,  2.16409099],\n",
       "       [ 0.70398068,  5.24749705],\n",
       "       [ 2.81300799,  1.98072943],\n",
       "       [ 2.70708902,  2.64401255],\n",
       "       [ 0.65187898,  5.66486617],\n",
       "       [-2.52807856,  2.87700771],\n",
       "       [-0.12814339,  4.84527977],\n",
       "       [-1.80645049,  1.48670988],\n",
       "       [-0.30674019,  5.12987493],\n",
       "       [ 3.1346386 ,  1.43567063],\n",
       "       [-2.45284168,  2.63104082],\n",
       "       [ 1.86345986,  2.5637754 ],\n",
       "       [ 0.24549154,  0.52008525],\n",
       "       [ 1.15998725,  5.99237181],\n",
       "       [ 1.248925  ,  2.34661103],\n",
       "       [ 0.85391207,  4.20634558],\n",
       "       [-2.24149105,  1.83841218],\n",
       "       [-1.6580373 ,  1.9470998 ],\n",
       "       [-0.18785991,  4.90782706],\n",
       "       [ 1.79770186,  1.72572863],\n",
       "       [ 1.67804002,  2.45104757],\n",
       "       [ 0.81289999,  5.74897588],\n",
       "       [ 0.85378528,  4.77102189],\n",
       "       [ 0.42458388,  4.48389726],\n",
       "       [ 0.37181466,  5.00280059],\n",
       "       [-1.2150076 ,  2.28623038],\n",
       "       [-1.56702261,  1.68977965],\n",
       "       [ 0.74846098,  2.25329312],\n",
       "       [-0.56432475,  5.03434318],\n",
       "       [-0.06470262,  4.83348731],\n",
       "       [-2.08602316,  1.3449614 ],\n",
       "       [ 2.25706227,  2.86302943],\n",
       "       [ 1.97524245,  3.47742354],\n",
       "       [ 1.23199195,  2.58704432],\n",
       "       [-1.41271161,  2.65177146],\n",
       "       [ 0.37985171,  3.62928164],\n",
       "       [-0.73262556,  1.08599115],\n",
       "       [ 0.34808837,  5.16613289],\n",
       "       [-0.26566226,  4.28963742],\n",
       "       [ 0.11239549,  4.91589502],\n",
       "       [-0.02227202,  5.07874142],\n",
       "       [-0.88932254,  5.19809687],\n",
       "       [ 0.34339273,  4.02330188],\n",
       "       [ 2.80283026,  1.96520819],\n",
       "       [ 1.67310217,  5.17179599],\n",
       "       [ 0.09257345,  4.60573438],\n",
       "       [ 1.9262587 ,  2.44113697],\n",
       "       [ 1.22059473,  1.95281298],\n",
       "       [ 0.30519034,  4.51875882],\n",
       "       [ 2.2601692 ,  3.29710664],\n",
       "       [-2.46987229,  1.99113478],\n",
       "       [ 0.42856277,  5.52141918],\n",
       "       [-2.48102089,  1.40835605],\n",
       "       [-0.52896394,  6.29600653],\n",
       "       [ 0.22261001,  4.37680991],\n",
       "       [ 0.90383223,  4.9184891 ],\n",
       "       [-0.6844411 ,  5.12036999],\n",
       "       [ 1.34625974,  1.62688577],\n",
       "       [-1.93320244,  2.64501505],\n",
       "       [-0.37108386,  4.71493198],\n",
       "       [ 1.95146991,  1.92412555],\n",
       "       [-2.86104069,  2.38537625],\n",
       "       [ 2.23605466,  2.7056458 ],\n",
       "       [-1.56524211,  2.66928519],\n",
       "       [ 0.44102116,  0.81046648],\n",
       "       [ 3.49647965,  1.4501262 ],\n",
       "       [-1.20636139,  1.23007611],\n",
       "       [-2.93236617,  0.76751801],\n",
       "       [ 2.32665029,  2.72358081],\n",
       "       [-1.88885322,  4.15066331],\n",
       "       [-1.63559656,  1.19896103],\n",
       "       [-0.76323683,  6.1901317 ],\n",
       "       [ 0.36732534,  4.66601306],\n",
       "       [-1.69328356,  2.78562983],\n",
       "       [ 2.91679413,  1.19151216],\n",
       "       [ 0.2785163 ,  4.30279238],\n",
       "       [ 1.07744491,  4.19590704],\n",
       "       [ 2.70784494,  0.96640614],\n",
       "       [-1.08688915,  5.40492509],\n",
       "       [-2.09518413,  1.44191115],\n",
       "       [ 2.09957596,  2.35945384],\n",
       "       [-2.66879768,  2.4101373 ],\n",
       "       [-1.0248375 ,  4.89185616],\n",
       "       [-2.18752166,  2.37124883],\n",
       "       [-2.43400059,  2.48862242],\n",
       "       [-0.15873213,  3.9048445 ],\n",
       "       [ 0.41302762,  4.52443135],\n",
       "       [-1.27282278,  3.53088575],\n",
       "       [ 2.59689284,  2.02475207],\n",
       "       [-2.86579736,  2.61308725],\n",
       "       [-1.86488816,  4.70149997],\n",
       "       [ 0.40623108,  4.31871269],\n",
       "       [ 0.50027329,  1.4188818 ],\n",
       "       [-1.4604734 ,  5.25326115],\n",
       "       [-2.38204192,  1.8608135 ],\n",
       "       [ 0.06649728,  5.05652569],\n",
       "       [-2.36972023,  1.24892196],\n",
       "       [-1.6993317 ,  1.57510112],\n",
       "       [-1.74356759,  1.26878743],\n",
       "       [-2.36196612,  1.30208122],\n",
       "       [ 0.30449883,  5.63729652],\n",
       "       [-0.36564953,  4.74152087],\n",
       "       [ 1.02083103,  2.05723747],\n",
       "       [ 2.31510886,  3.23573457],\n",
       "       [ 1.18788093,  2.94507477],\n",
       "       [-1.92564409,  0.93202378],\n",
       "       [-0.15025769,  5.71487369],\n",
       "       [-1.9694317 ,  1.84158003],\n",
       "       [-1.5783765 ,  2.29419754],\n",
       "       [-0.01247228,  4.57990284],\n",
       "       [-1.97045038,  2.40797065],\n",
       "       [ 1.08542615,  2.05346634],\n",
       "       [ 0.52593606,  5.09827681],\n",
       "       [-2.07731292,  1.56784656],\n",
       "       [ 0.28718602,  5.60190968],\n",
       "       [-1.39421466,  0.38892291],\n",
       "       [-0.25382846,  3.96039048],\n",
       "       [-2.89079113,  2.2194834 ],\n",
       "       [ 0.43030839,  4.75571107],\n",
       "       [-0.47009722,  1.02245257],\n",
       "       [-3.30058731,  2.86531482],\n",
       "       [ 0.71298673,  5.86139074],\n",
       "       [ 2.47207727,  1.49432567],\n",
       "       [ 2.36078966,  1.21959026],\n",
       "       [-2.69791386,  1.92524421],\n",
       "       [ 1.04711934,  5.47281767],\n",
       "       [ 0.24900208,  5.59471079],\n",
       "       [ 0.72341556,  4.89760871],\n",
       "       [ 1.35894571,  1.71492357],\n",
       "       [-1.65335207,  1.87770779],\n",
       "       [ 1.58465937,  2.35721532],\n",
       "       [ 0.63967362,  2.24674606],\n",
       "       [-0.4147229 ,  3.38656444],\n",
       "       [ 2.59729753,  1.90220179],\n",
       "       [ 1.87427139,  2.35120758],\n",
       "       [-0.60024778,  4.34607271],\n",
       "       [ 3.28430234,  2.395068  ],\n",
       "       [ 1.70285505,  1.48792831],\n",
       "       [ 0.31515242,  5.43920596],\n",
       "       [ 2.60967886,  1.64408001],\n",
       "       [ 1.92547791,  0.04630252],\n",
       "       [-0.55355997,  5.85660555],\n",
       "       [-1.4147967 ,  3.08035138],\n",
       "       [-0.86064447,  2.23660819],\n",
       "       [ 2.62007806,  2.13290315],\n",
       "       [ 0.31386646,  5.78772645],\n",
       "       [ 0.18594968,  4.81767376],\n",
       "       [-2.09551132,  1.91666207],\n",
       "       [-1.82584059,  1.79235119],\n",
       "       [ 0.07793609,  4.98633421],\n",
       "       [ 2.47880093,  1.75261301],\n",
       "       [-2.22854965,  1.06012695],\n",
       "       [-2.18635295,  2.02283018],\n",
       "       [ 0.90548473,  4.69270164],\n",
       "       [ 0.63846713,  1.35920294],\n",
       "       [-1.20785943,  3.06387177],\n",
       "       [-0.6667389 ,  2.77773969],\n",
       "       [ 0.66814697,  5.06702274],\n",
       "       [-2.54733818,  1.69374371],\n",
       "       [-1.48161048,  1.33240958],\n",
       "       [-1.802127  ,  1.4217318 ],\n",
       "       [ 0.05057633,  5.70685113],\n",
       "       [-0.09435519,  5.7344528 ],\n",
       "       [ 2.85760909,  1.26251775],\n",
       "       [-2.76643829,  2.1185677 ],\n",
       "       [ 2.01530399,  1.67192833],\n",
       "       [ 0.21856708,  4.86467485],\n",
       "       [ 1.07557543,  4.99973749],\n",
       "       [-2.83948762,  2.60434172],\n",
       "       [-2.85382108,  3.71455805],\n",
       "       [-0.0253969 ,  4.41732326],\n",
       "       [ 0.10273568,  5.40026342],\n",
       "       [-1.21361149,  2.21368693],\n",
       "       [-0.62907824,  5.22375986],\n",
       "       [-2.13763507,  5.33589666],\n",
       "       [-1.96443457,  1.55410305],\n",
       "       [-2.13428489,  1.37865973],\n",
       "       [ 2.32281487,  1.17681213],\n",
       "       [-1.91588873,  2.43204218],\n",
       "       [-1.80353445,  1.94882111],\n",
       "       [-2.3936138 ,  3.36841465],\n",
       "       [-1.5372858 ,  3.25451075],\n",
       "       [ 2.08986389,  3.23229063],\n",
       "       [ 3.10282754,  2.84462553],\n",
       "       [ 0.11526555,  5.54472193],\n",
       "       [-1.78988078,  1.75342511],\n",
       "       [-2.50791798,  1.39256193],\n",
       "       [ 0.22488614,  4.49234955],\n",
       "       [-0.39840406,  4.25674227],\n",
       "       [-1.8611902 ,  2.08330605],\n",
       "       [ 1.5090589 ,  1.62394388],\n",
       "       [-1.64777063,  2.90525812],\n",
       "       [ 0.42448276,  6.60560233],\n",
       "       [-0.77863177,  1.46715517],\n",
       "       [ 1.7592695 ,  1.29988157],\n",
       "       [-0.31268944,  5.14306418],\n",
       "       [ 2.2171906 ,  0.53402653],\n",
       "       [-2.21434281,  2.57958225],\n",
       "       [ 0.52877442,  5.49068749],\n",
       "       [ 0.27609962,  5.50786579],\n",
       "       [-0.3343066 ,  5.0182    ],\n",
       "       [-2.13059884,  1.92877789],\n",
       "       [ 2.2607198 ,  1.89605714],\n",
       "       [ 0.2699216 ,  5.50280352],\n",
       "       [ 2.35765644,  3.19746329],\n",
       "       [ 1.80199551,  1.81357118],\n",
       "       [ 3.01001385,  1.62222291],\n",
       "       [ 1.87565746,  0.94268054],\n",
       "       [ 0.3105479 ,  0.75570354],\n",
       "       [ 2.11890848,  1.18519442],\n",
       "       [-1.80008887,  2.61959881],\n",
       "       [ 2.54601899,  1.55939088],\n",
       "       [-2.12069975,  1.38549911],\n",
       "       [-1.16075748,  2.12960949],\n",
       "       [ 2.36055153,  0.05222587],\n",
       "       [-2.24069757,  2.0305178 ],\n",
       "       [-0.66563648,  4.50695477],\n",
       "       [ 0.12159998,  2.57720924],\n",
       "       [ 0.1050114 ,  5.32447403],\n",
       "       [ 2.48535636,  1.46935287],\n",
       "       [-2.82762269,  1.53397184],\n",
       "       [ 2.59729686,  1.71087948],\n",
       "       [-2.4694636 ,  2.26429465],\n",
       "       [ 3.22250456,  1.4574508 ],\n",
       "       [ 0.42614856,  3.68301239],\n",
       "       [-2.16655936,  2.80870152],\n",
       "       [ 1.33355653,  1.63729811],\n",
       "       [ 1.22460125,  1.98759718],\n",
       "       [ 2.31613117,  2.77292203],\n",
       "       [-1.06798002,  1.7988845 ],\n",
       "       [-3.17193707,  2.57752088],\n",
       "       [-0.94408751,  5.91177488],\n",
       "       [ 3.43823687,  2.03738668],\n",
       "       [ 0.34603916,  3.95406436],\n",
       "       [-1.94552521,  2.43286618],\n",
       "       [ 0.50788536,  4.77305705],\n",
       "       [-0.02519313,  5.72592729],\n",
       "       [ 0.22270794,  4.98653786],\n",
       "       [ 2.32475513,  4.57984227],\n",
       "       [-0.02577236,  5.07865794],\n",
       "       [ 2.74828014,  2.02826   ],\n",
       "       [ 0.68878732,  2.64443058],\n",
       "       [ 1.92300596,  2.00598426],\n",
       "       [ 0.07562157,  5.02059233],\n",
       "       [ 1.66459003,  2.24511701],\n",
       "       [ 0.79642387,  2.0399847 ],\n",
       "       [ 1.28467984,  2.55616977],\n",
       "       [-1.21993192,  1.58943324],\n",
       "       [ 2.67657748,  2.49913434],\n",
       "       [-0.86813528,  2.35191862],\n",
       "       [ 1.40398104,  2.700617  ],\n",
       "       [-0.58799224,  3.39125588],\n",
       "       [-1.3688865 ,  2.35174604],\n",
       "       [ 1.5622606 ,  1.58430985],\n",
       "       [ 0.29814412,  5.03435628],\n",
       "       [-1.69104489,  1.92989134],\n",
       "       [-1.45376142,  5.66325082],\n",
       "       [ 0.16835389,  4.30040145],\n",
       "       [-1.83013139,  2.14128113],\n",
       "       [-2.02708686,  0.86895935],\n",
       "       [ 2.1093847 ,  1.86684528],\n",
       "       [-0.27628278,  4.17973063],\n",
       "       [ 0.77085205,  2.50035272],\n",
       "       [ 1.3466708 ,  4.57581308],\n",
       "       [ 2.91434425,  1.57677792],\n",
       "       [-1.39177969,  2.52528815],\n",
       "       [ 1.58303248,  1.78361508],\n",
       "       [ 0.65460345,  6.26876947],\n",
       "       [-1.43233383,  2.73110947],\n",
       "       [ 1.27257237,  2.51311626],\n",
       "       [ 1.97257522,  1.83987208],\n",
       "       [ 1.57919024,  2.38925146],\n",
       "       [-1.95747486,  2.14778733],\n",
       "       [-0.86295825,  1.57177051],\n",
       "       [ 0.12261741,  4.96256142],\n",
       "       [ 2.57123058,  1.57131512],\n",
       "       [ 0.35100071,  4.66497015],\n",
       "       [-0.1396925 ,  4.54177778],\n",
       "       [ 3.23217446,  1.95754326],\n",
       "       [ 1.60975369,  2.65741812],\n",
       "       [ 2.81695262,  1.97223191],\n",
       "       [ 0.96583073,  5.42171563],\n",
       "       [ 0.77603173,  4.50795572],\n",
       "       [ 0.21687173,  5.73592454],\n",
       "       [ 0.2477093 ,  4.86913149],\n",
       "       [ 0.47083382,  6.70021388],\n",
       "       [-0.25145687,  5.35376733],\n",
       "       [ 0.97701748,  1.63855646],\n",
       "       [-0.03210668,  4.84688658],\n",
       "       [ 2.54419344,  1.91686018],\n",
       "       [ 2.97041998,  2.38369071],\n",
       "       [ 1.01956917,  5.22164606],\n",
       "       [-1.77905554,  0.58445915],\n",
       "       [-1.83893369,  2.53340783],\n",
       "       [ 0.07283737,  5.3696024 ],\n",
       "       [ 2.72806241,  1.35709197],\n",
       "       [ 0.27565141,  4.84030152],\n",
       "       [-1.43869728,  2.03259711],\n",
       "       [-1.014722  ,  2.09037111],\n",
       "       [-2.96118212,  2.22061157],\n",
       "       [ 2.73149609,  2.42596029],\n",
       "       [-1.50111083,  4.7413063 ],\n",
       "       [ 0.6335263 ,  1.0183696 ],\n",
       "       [-0.09754626,  4.49002376],\n",
       "       [-2.61409706,  1.39254894],\n",
       "       [-1.88797405,  2.61331824],\n",
       "       [-0.10535303,  5.64084949],\n",
       "       [ 2.9965301 ,  2.63279942],\n",
       "       [-2.77043342,  2.8013066 ],\n",
       "       [-0.04155753,  6.01429258],\n",
       "       [-2.79976274,  1.75546009],\n",
       "       [ 1.89976298,  2.72308865],\n",
       "       [-0.2201947 ,  4.05849299],\n",
       "       [-1.44503519,  1.56352849],\n",
       "       [-2.60292145,  2.47229807],\n",
       "       [ 2.09914838,  0.2385873 ],\n",
       "       [ 2.43258987,  1.87107657],\n",
       "       [ 1.14218406,  5.60262387],\n",
       "       [ 2.12672712,  2.77502282],\n",
       "       [-1.54179389,  1.96416809],\n",
       "       [-0.56417859,  2.4099634 ],\n",
       "       [ 1.62743619,  2.78269338],\n",
       "       [ 2.48480204,  1.66492935],\n",
       "       [-0.13925622,  5.21137203],\n",
       "       [-1.98781341,  1.21458689],\n",
       "       [-2.78152901,  2.05664897],\n",
       "       [ 0.27901887,  4.86559741],\n",
       "       [ 1.82382805,  2.26790062],\n",
       "       [ 1.76966392,  2.94297383],\n",
       "       [ 1.818712  ,  2.13250524],\n",
       "       [-0.22183084,  5.44869011],\n",
       "       [ 0.40107391,  5.32056295],\n",
       "       [-2.00132404,  1.0223657 ],\n",
       "       [ 2.45405055,  2.07514031],\n",
       "       [-0.64881036,  4.87230572],\n",
       "       [ 2.31578606,  1.51355537],\n",
       "       [ 0.85255863,  3.64152332],\n",
       "       [-0.90668052,  5.05202439]])"
      ]
     },
     "execution_count": 2,
     "metadata": {},
     "output_type": "execute_result"
    }
   ],
   "source": [
    "X"
   ]
  },
  {
   "cell_type": "code",
   "execution_count": 3,
   "id": "684612f8",
   "metadata": {
    "scrolled": true
   },
   "outputs": [
    {
     "data": {
      "text/plain": [
       "array([2, 1, 1, 0, 1, 0, 1, 1, 1, 2, 2, 2, 2, 0, 1, 1, 0, 2, 0, 1, 1, 2,\n",
       "       0, 0, 2, 2, 0, 0, 1, 0, 1, 0, 2, 1, 1, 1, 1, 2, 1, 0, 2, 1, 0, 2,\n",
       "       1, 1, 1, 2, 0, 0, 0, 2, 1, 0, 2, 1, 1, 1, 1, 2, 0, 0, 0, 1, 0, 1,\n",
       "       2, 1, 1, 1, 1, 0, 2, 1, 2, 1, 1, 2, 2, 0, 1, 0, 1, 0, 0, 2, 0, 0,\n",
       "       1, 1, 0, 1, 2, 1, 0, 1, 1, 2, 1, 0, 0, 2, 0, 0, 0, 2, 1, 0, 0, 1,\n",
       "       1, 1, 0, 2, 0, 0, 0, 2, 0, 2, 1, 2, 0, 2, 2, 0, 0, 2, 1, 1, 0, 0,\n",
       "       1, 0, 2, 2, 0, 2, 0, 0, 2, 2, 0, 0, 0, 2, 1, 2, 1, 2, 0, 0, 1, 0,\n",
       "       1, 2, 1, 1, 0, 1, 0, 0, 0, 2, 1, 1, 2, 0, 2, 0, 2, 1, 0, 1, 1, 2,\n",
       "       1, 2, 0, 0, 2, 1, 1, 2, 1, 2, 2, 0, 0, 1, 2, 2, 0, 1, 1, 1, 0, 2,\n",
       "       0, 2, 2, 2, 2, 2, 2, 1, 2, 2, 1, 1, 2, 1, 0, 2, 0, 2, 2, 2, 2, 1,\n",
       "       0, 2, 1, 0, 1, 0, 1, 1, 0, 0, 1, 2, 0, 2, 2, 0, 1, 2, 2, 1, 2, 0,\n",
       "       1, 0, 2, 0, 0, 2, 2, 0, 1, 0, 2, 2, 1, 2, 0, 2, 0, 0, 0, 0, 2, 2,\n",
       "       1, 1, 1, 0, 2, 0, 0, 2, 0, 1, 2, 0, 2, 0, 2, 0, 2, 0, 0, 2, 1, 1,\n",
       "       0, 2, 2, 2, 1, 0, 1, 1, 2, 1, 1, 2, 1, 1, 2, 1, 1, 2, 0, 0, 1, 2,\n",
       "       2, 0, 0, 2, 1, 0, 0, 2, 1, 0, 0, 2, 0, 0, 0, 2, 2, 1, 0, 1, 2, 2,\n",
       "       0, 0, 2, 2, 0, 2, 2, 0, 0, 1, 0, 0, 0, 0, 1, 1, 2, 0, 0, 2, 2, 0,\n",
       "       1, 0, 2, 0, 1, 2, 1, 0, 2, 2, 2, 0, 1, 2, 1, 1, 1, 1, 1, 1, 0, 1,\n",
       "       0, 0, 1, 0, 2, 0, 2, 1, 0, 1, 0, 1, 2, 0, 1, 1, 1, 0, 0, 2, 1, 2,\n",
       "       0, 2, 2, 2, 2, 2, 1, 1, 1, 2, 1, 1, 1, 0, 1, 0, 1, 2, 0, 1, 2, 0,\n",
       "       2, 2, 0, 0, 1, 2, 1, 2, 1, 0, 1, 2, 0, 1, 1, 1, 0, 0, 2, 1, 2, 2,\n",
       "       1, 1, 1, 2, 2, 2, 2, 2, 2, 1, 2, 1, 1, 2, 0, 0, 2, 1, 2, 0, 0, 0,\n",
       "       1, 2, 1, 2, 0, 0, 2, 1, 0, 2, 0, 1, 2, 0, 0, 1, 1, 2, 1, 0, 0, 1,\n",
       "       1, 2, 0, 0, 2, 1, 1, 1, 2, 2, 0, 1, 2, 1, 2, 2])"
      ]
     },
     "execution_count": 3,
     "metadata": {},
     "output_type": "execute_result"
    }
   ],
   "source": [
    "y"
   ]
  },
  {
   "cell_type": "code",
   "execution_count": 4,
   "id": "1b5a060c",
   "metadata": {},
   "outputs": [],
   "source": [
    "import pandas as pd\n",
    "datax = pd.DataFrame(data = X)"
   ]
  },
  {
   "cell_type": "code",
   "execution_count": 5,
   "id": "99195215",
   "metadata": {},
   "outputs": [],
   "source": [
    "datax['label'] = y"
   ]
  },
  {
   "cell_type": "code",
   "execution_count": 6,
   "id": "4c1ca23f",
   "metadata": {},
   "outputs": [
    {
     "data": {
      "text/plain": [
       "Index([0, 1, 'label'], dtype='object')"
      ]
     },
     "execution_count": 6,
     "metadata": {},
     "output_type": "execute_result"
    }
   ],
   "source": [
    "datax.columns"
   ]
  },
  {
   "cell_type": "code",
   "execution_count": 7,
   "id": "38759864",
   "metadata": {},
   "outputs": [
    {
     "data": {
      "text/plain": [
       "[0, 54, 119, 190, 203, 218, 335, 499]"
      ]
     },
     "execution_count": 7,
     "metadata": {},
     "output_type": "execute_result"
    }
   ],
   "source": [
    "from math import dist\n",
    "\n",
    "def range_query(df, a, eps):\n",
    "    voisin = []\n",
    "    for k in range(len(df)):\n",
    "        \n",
    "        a2 = (datax[0][a], datax[1][a])\n",
    "        b = (datax[0][k], datax[1][k])\n",
    "\n",
    "        if dist(a2,b) < eps:\n",
    "            voisin.append(k)\n",
    "    return(voisin)\n",
    "\n",
    "range_query(datax, 0, 0.3)"
   ]
  },
  {
   "cell_type": "code",
   "execution_count": 8,
   "id": "48435278",
   "metadata": {},
   "outputs": [
    {
     "data": {
      "text/plain": [
       "8"
      ]
     },
     "execution_count": 8,
     "metadata": {},
     "output_type": "execute_result"
    }
   ],
   "source": [
    "len(range_query(datax, 0, 0.3))"
   ]
  },
  {
   "cell_type": "code",
   "execution_count": 9,
   "id": "5eb0176e",
   "metadata": {},
   "outputs": [],
   "source": [
    "def compare(li, min_points):\n",
    "    if len(li) < min_points:\n",
    "        return True\n",
    "    else: \n",
    "        False"
   ]
  },
  {
   "cell_type": "code",
   "execution_count": 10,
   "id": "d741ad02",
   "metadata": {},
   "outputs": [],
   "source": [
    "def clusterisation(datax, k, neighbors, id_cluster, minpts, eps):\n",
    "    \n",
    "    datax['visitedornot'][k] = id_cluster\n",
    "    \n",
    "    i = 0\n",
    "    while i < len(neighbors):\n",
    "        next_point = neighbors[i]\n",
    "        \n",
    "        if datax['visitedornot'][next_point] == 'noise':\n",
    "            datax['visitedornot'][next_point] = id_cluster\n",
    "        \n",
    "        elif datax['visitedornot'][next_point] == 'notvisited':\n",
    "            \n",
    "            datax['visitedornot'][next_point] = id_cluster \n",
    "            next_point_neighbor = range_query(datax, next_point, eps)\n",
    "            \n",
    "            if len(next_point_neighbor) >= minpts:\n",
    "                neighbors = neighbors + next_point_neighbor\n",
    "        i = i+1"
   ]
  },
  {
   "cell_type": "code",
   "execution_count": 11,
   "id": "a1418b5e",
   "metadata": {},
   "outputs": [],
   "source": [
    "def dbscan(datax, eps, minpts):\n",
    "    \n",
    "    id_cluster = 0\n",
    "    \n",
    "    for k in range(len(datax)):\n",
    "        \n",
    "        if datax['visitedornot'][k] != 'notvisited':\n",
    "            continue\n",
    "            \n",
    "        neighbors = range_query(datax, k, 0.3)\n",
    "        \n",
    "        if compare(neighbors, minpts) == True:\n",
    "            datax['visitedornot'][k] = 'noise'\n",
    "                                \n",
    "        else :\n",
    "            id_cluster = id_cluster + 1\n",
    "            clusterisation(datax, k, neighbors, id_cluster, minpts, eps)\n",
    "                                \n",
    "    return(datax['visitedornot'])\n",
    "    "
   ]
  },
  {
   "cell_type": "markdown",
   "id": "37e1a3bd",
   "metadata": {},
   "source": [
    "# Labelisation with our dbscan from scratch"
   ]
  },
  {
   "cell_type": "code",
   "execution_count": 12,
   "id": "2dceef00",
   "metadata": {},
   "outputs": [],
   "source": [
    "datax['visitedornot'] = 'notvisited'"
   ]
  },
  {
   "cell_type": "code",
   "execution_count": 13,
   "id": "3665b424",
   "metadata": {
    "scrolled": false
   },
   "outputs": [
    {
     "name": "stderr",
     "output_type": "stream",
     "text": [
      "<ipython-input-10-49822373b67d>:3: SettingWithCopyWarning: \n",
      "A value is trying to be set on a copy of a slice from a DataFrame\n",
      "\n",
      "See the caveats in the documentation: https://pandas.pydata.org/pandas-docs/stable/user_guide/indexing.html#returning-a-view-versus-a-copy\n",
      "  datax['visitedornot'][k] = id_cluster\n",
      "<ipython-input-10-49822373b67d>:14: SettingWithCopyWarning: \n",
      "A value is trying to be set on a copy of a slice from a DataFrame\n",
      "\n",
      "See the caveats in the documentation: https://pandas.pydata.org/pandas-docs/stable/user_guide/indexing.html#returning-a-view-versus-a-copy\n",
      "  datax['visitedornot'][next_point] = id_cluster\n",
      "<ipython-input-11-7df7440a95d4>:13: SettingWithCopyWarning: \n",
      "A value is trying to be set on a copy of a slice from a DataFrame\n",
      "\n",
      "See the caveats in the documentation: https://pandas.pydata.org/pandas-docs/stable/user_guide/indexing.html#returning-a-view-versus-a-copy\n",
      "  datax['visitedornot'][k] = 'noise'\n"
     ]
    },
    {
     "data": {
      "text/plain": [
       "0      1\n",
       "1      2\n",
       "2      2\n",
       "3      3\n",
       "4      2\n",
       "      ..\n",
       "495    2\n",
       "496    1\n",
       "497    2\n",
       "498    1\n",
       "499    1\n",
       "Name: visitedornot, Length: 500, dtype: object"
      ]
     },
     "execution_count": 13,
     "metadata": {},
     "output_type": "execute_result"
    }
   ],
   "source": [
    "dbscan(datax, 0.5, 6)"
   ]
  },
  {
   "cell_type": "code",
   "execution_count": 14,
   "id": "495fd0f1",
   "metadata": {},
   "outputs": [
    {
     "data": {
      "text/plain": [
       "array([1, 2, 3, 'noise'], dtype=object)"
      ]
     },
     "execution_count": 14,
     "metadata": {},
     "output_type": "execute_result"
    }
   ],
   "source": [
    "datax['visitedornot'].unique()"
   ]
  },
  {
   "cell_type": "code",
   "execution_count": 15,
   "id": "aeb184f6",
   "metadata": {
    "scrolled": false
   },
   "outputs": [
    {
     "data": {
      "text/html": [
       "<div>\n",
       "<style scoped>\n",
       "    .dataframe tbody tr th:only-of-type {\n",
       "        vertical-align: middle;\n",
       "    }\n",
       "\n",
       "    .dataframe tbody tr th {\n",
       "        vertical-align: top;\n",
       "    }\n",
       "\n",
       "    .dataframe thead th {\n",
       "        text-align: right;\n",
       "    }\n",
       "</style>\n",
       "<table border=\"1\" class=\"dataframe\">\n",
       "  <thead>\n",
       "    <tr style=\"text-align: right;\">\n",
       "      <th></th>\n",
       "      <th>0</th>\n",
       "      <th>1</th>\n",
       "      <th>label</th>\n",
       "      <th>visitedornot</th>\n",
       "    </tr>\n",
       "  </thead>\n",
       "  <tbody>\n",
       "    <tr>\n",
       "      <th>0</th>\n",
       "      <td>-0.731874</td>\n",
       "      <td>5.248699</td>\n",
       "      <td>2</td>\n",
       "      <td>1</td>\n",
       "    </tr>\n",
       "    <tr>\n",
       "      <th>1</th>\n",
       "      <td>2.588603</td>\n",
       "      <td>1.927979</td>\n",
       "      <td>1</td>\n",
       "      <td>2</td>\n",
       "    </tr>\n",
       "    <tr>\n",
       "      <th>2</th>\n",
       "      <td>1.667239</td>\n",
       "      <td>2.334327</td>\n",
       "      <td>1</td>\n",
       "      <td>2</td>\n",
       "    </tr>\n",
       "    <tr>\n",
       "      <th>3</th>\n",
       "      <td>-1.309565</td>\n",
       "      <td>2.149474</td>\n",
       "      <td>0</td>\n",
       "      <td>3</td>\n",
       "    </tr>\n",
       "    <tr>\n",
       "      <th>4</th>\n",
       "      <td>1.433807</td>\n",
       "      <td>2.390208</td>\n",
       "      <td>1</td>\n",
       "      <td>2</td>\n",
       "    </tr>\n",
       "    <tr>\n",
       "      <th>...</th>\n",
       "      <td>...</td>\n",
       "      <td>...</td>\n",
       "      <td>...</td>\n",
       "      <td>...</td>\n",
       "    </tr>\n",
       "    <tr>\n",
       "      <th>495</th>\n",
       "      <td>2.454051</td>\n",
       "      <td>2.075140</td>\n",
       "      <td>1</td>\n",
       "      <td>2</td>\n",
       "    </tr>\n",
       "    <tr>\n",
       "      <th>496</th>\n",
       "      <td>-0.648810</td>\n",
       "      <td>4.872306</td>\n",
       "      <td>2</td>\n",
       "      <td>1</td>\n",
       "    </tr>\n",
       "    <tr>\n",
       "      <th>497</th>\n",
       "      <td>2.315786</td>\n",
       "      <td>1.513555</td>\n",
       "      <td>1</td>\n",
       "      <td>2</td>\n",
       "    </tr>\n",
       "    <tr>\n",
       "      <th>498</th>\n",
       "      <td>0.852559</td>\n",
       "      <td>3.641523</td>\n",
       "      <td>2</td>\n",
       "      <td>1</td>\n",
       "    </tr>\n",
       "    <tr>\n",
       "      <th>499</th>\n",
       "      <td>-0.906681</td>\n",
       "      <td>5.052024</td>\n",
       "      <td>2</td>\n",
       "      <td>1</td>\n",
       "    </tr>\n",
       "  </tbody>\n",
       "</table>\n",
       "<p>500 rows × 4 columns</p>\n",
       "</div>"
      ],
      "text/plain": [
       "            0         1  label visitedornot\n",
       "0   -0.731874  5.248699      2            1\n",
       "1    2.588603  1.927979      1            2\n",
       "2    1.667239  2.334327      1            2\n",
       "3   -1.309565  2.149474      0            3\n",
       "4    1.433807  2.390208      1            2\n",
       "..        ...       ...    ...          ...\n",
       "495  2.454051  2.075140      1            2\n",
       "496 -0.648810  4.872306      2            1\n",
       "497  2.315786  1.513555      1            2\n",
       "498  0.852559  3.641523      2            1\n",
       "499 -0.906681  5.052024      2            1\n",
       "\n",
       "[500 rows x 4 columns]"
      ]
     },
     "execution_count": 15,
     "metadata": {},
     "output_type": "execute_result"
    }
   ],
   "source": [
    "datax"
   ]
  },
  {
   "cell_type": "markdown",
   "id": "a0f94368",
   "metadata": {},
   "source": [
    "## True label"
   ]
  },
  {
   "cell_type": "code",
   "execution_count": 16,
   "id": "bc69fff2",
   "metadata": {
    "scrolled": true
   },
   "outputs": [
    {
     "data": {
      "text/plain": [
       "<matplotlib.collections.PathCollection at 0x25b11f69820>"
      ]
     },
     "execution_count": 16,
     "metadata": {},
     "output_type": "execute_result"
    },
    {
     "data": {
      "image/png": "[encoded data removed]",
      "text/plain": [
       "<Figure size 432x288 with 1 Axes>"
      ]
     },
     "metadata": {
      "needs_background": "light"
     },
     "output_type": "display_data"
    }
   ],
   "source": [
    "plt.scatter(X[y == 0, 0], X[y == 0, 1], color=\"red\", s=10, label=\"Cluster1\")\n",
    "plt.scatter(X[y == 1, 0], X[y == 1, 1], color=\"blue\", s=10, label=\"Cluster2\")\n",
    "plt.scatter(X[y == 2, 0], X[y == 2, 1], color=\"green\", s=10, label=\"Cluster3\")"
   ]
  },
  {
   "cell_type": "markdown",
   "id": "c33c5bbe",
   "metadata": {},
   "source": [
    "## Predicted label with dbscan"
   ]
  },
  {
   "cell_type": "code",
   "execution_count": 17,
   "id": "6f7e6bd3",
   "metadata": {},
   "outputs": [
    {
     "data": {
      "text/plain": [
       "<matplotlib.collections.PathCollection at 0x25b11fc2fd0>"
      ]
     },
     "execution_count": 17,
     "metadata": {},
     "output_type": "execute_result"
    },
    {
     "data": {
      "image/png": "[encoded data removed]",
      "text/plain": [
       "<Figure size 432x288 with 1 Axes>"
      ]
     },
     "metadata": {
      "needs_background": "light"
     },
     "output_type": "display_data"
    }
   ],
   "source": [
    "plt.scatter(datax[0][datax.visitedornot == 1], datax[1][datax.visitedornot == 1], color=\"red\", s=10, label=\"Cluster1\")\n",
    "plt.scatter(datax[0][datax.visitedornot == 2], datax[1][datax.visitedornot == 2], color=\"blue\", s=10, label=\"Cluster2\")\n",
    "plt.scatter(datax[0][datax.visitedornot == 3], datax[1][datax.visitedornot == 3], color=\"green\", s=10, label=\"Cluster3\")\n",
    "plt.scatter(datax[0][datax.visitedornot == 'noise'], datax[1][datax.visitedornot == 'noise'], color=\"black\", s=10, label=\"noise\")"
   ]
  },
  {
   "cell_type": "markdown",
   "id": "efd83d37",
   "metadata": {},
   "source": [
    "# Optimizing hyperparameter"
   ]
  },
  {
   "cell_type": "code",
   "execution_count": 26,
   "id": "526f83ac",
   "metadata": {},
   "outputs": [
    {
     "data": {
      "text/plain": [
       "[<matplotlib.lines.Line2D at 0x25b124f02e0>]"
      ]
     },
     "execution_count": 26,
     "metadata": {},
     "output_type": "execute_result"
    },
    {
     "data": {
      "image/png": "[encoded data removed]",
      "text/plain": [
       "<Figure size 432x288 with 1 Axes>"
      ]
     },
     "metadata": {
      "needs_background": "light"
     },
     "output_type": "display_data"
    }
   ],
   "source": [
    "'''from sklearn.neighbors import NearestNeighbors\n",
    "import numpy as np \n",
    "\n",
    "neigh = NearestNeighbors(n_neighbors=6)\n",
    "nbrs = neigh.fit(X)\n",
    "distances, indices = nbrs.kneighbors(X)\n",
    "\n",
    "distances = np.sort(distances, axis=0)\n",
    "distances = distances[:,1]\n",
    "plt.plot(distances)'''"
   ]
  },
  {
   "cell_type": "markdown",
   "id": "bd30696c",
   "metadata": {},
   "source": [
    "optimized epsilon = 0.3"
   ]
  },
  {
   "cell_type": "code",
   "execution_count": 23,
   "id": "ec0277df",
   "metadata": {},
   "outputs": [],
   "source": [
    "datax['visitedornot'] = 'notvisited'"
   ]
  },
  {
   "cell_type": "code",
   "execution_count": 24,
   "id": "0b4b4e0e",
   "metadata": {},
   "outputs": [
    {
     "name": "stderr",
     "output_type": "stream",
     "text": [
      "<ipython-input-10-49822373b67d>:3: SettingWithCopyWarning: \n",
      "A value is trying to be set on a copy of a slice from a DataFrame\n",
      "\n",
      "See the caveats in the documentation: https://pandas.pydata.org/pandas-docs/stable/user_guide/indexing.html#returning-a-view-versus-a-copy\n",
      "  datax['visitedornot'][k] = id_cluster\n",
      "<ipython-input-10-49822373b67d>:14: SettingWithCopyWarning: \n",
      "A value is trying to be set on a copy of a slice from a DataFrame\n",
      "\n",
      "See the caveats in the documentation: https://pandas.pydata.org/pandas-docs/stable/user_guide/indexing.html#returning-a-view-versus-a-copy\n",
      "  datax['visitedornot'][next_point] = id_cluster\n",
      "<ipython-input-11-7df7440a95d4>:13: SettingWithCopyWarning: \n",
      "A value is trying to be set on a copy of a slice from a DataFrame\n",
      "\n",
      "See the caveats in the documentation: https://pandas.pydata.org/pandas-docs/stable/user_guide/indexing.html#returning-a-view-versus-a-copy\n",
      "  datax['visitedornot'][k] = 'noise'\n"
     ]
    },
    {
     "data": {
      "text/plain": [
       "0          1\n",
       "1          2\n",
       "2          2\n",
       "3          3\n",
       "4          2\n",
       "       ...  \n",
       "495        2\n",
       "496        1\n",
       "497        2\n",
       "498    noise\n",
       "499        1\n",
       "Name: visitedornot, Length: 500, dtype: object"
      ]
     },
     "execution_count": 24,
     "metadata": {},
     "output_type": "execute_result"
    }
   ],
   "source": [
    "dbscan(datax, 0.3, 6)"
   ]
  },
  {
   "cell_type": "code",
   "execution_count": 25,
   "id": "e1c6504b",
   "metadata": {},
   "outputs": [
    {
     "data": {
      "text/plain": [
       "<matplotlib.collections.PathCollection at 0x25b1246c280>"
      ]
     },
     "execution_count": 25,
     "metadata": {},
     "output_type": "execute_result"
    },
    {
     "data": {
      "image/png": "[encoded data removed]",
      "text/plain": [
       "<Figure size 432x288 with 1 Axes>"
      ]
     },
     "metadata": {
      "needs_background": "light"
     },
     "output_type": "display_data"
    }
   ],
   "source": [
    "plt.scatter(datax[0][datax.visitedornot == 1], datax[1][datax.visitedornot == 1], color=\"red\", s=10, label=\"Cluster1\")\n",
    "plt.scatter(datax[0][datax.visitedornot == 2], datax[1][datax.visitedornot == 2], color=\"blue\", s=10, label=\"Cluster2\")\n",
    "plt.scatter(datax[0][datax.visitedornot == 3], datax[1][datax.visitedornot == 3], color=\"green\", s=10, label=\"Cluster3\")\n",
    "plt.scatter(datax[0][datax.visitedornot == 'noise'], datax[1][datax.visitedornot == 'noise'], color=\"black\", s=10, label=\"noise\")"
   ]
  },
  {
   "cell_type": "code",
   "execution_count": null,
   "id": "b1b53e09",
   "metadata": {},
   "outputs": [],
   "source": []
  }
 ],
 "metadata": {
  "kernelspec": {
   "display_name": "Python 3",
   "language": "python",
   "name": "python3"
  },
  "language_info": {
   "codemirror_mode": {
    "name": "ipython",
    "version": 3
   },
   "file_extension": ".py",
   "mimetype": "text/x-python",
   "name": "python",
   "nbconvert_exporter": "python",
   "pygments_lexer": "ipython3",
   "version": "3.8.8"
  }
 },
 "nbformat": 4,
 "nbformat_minor": 5
}
